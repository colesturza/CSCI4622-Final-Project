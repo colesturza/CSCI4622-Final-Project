{
 "cells": [
  {
   "cell_type": "markdown",
   "metadata": {},
   "source": [
    "# Preprocess the data"
   ]
  },
  {
   "cell_type": "code",
   "execution_count": 1,
   "metadata": {},
   "outputs": [],
   "source": [
    "import numpy as np\n",
    "import pandas as pd"
   ]
  },
  {
   "cell_type": "code",
   "execution_count": 2,
   "metadata": {},
   "outputs": [],
   "source": [
    "path = '../data/fma_metadata/'\n",
    "tracks = pd.read_csv(path + 'tracks.csv', index_col=0, header=[0, 1])\n",
    "features = pd.read_csv(path + 'features.csv', index_col=0, header=[0, 1, 2])"
   ]
  },
  {
   "cell_type": "code",
   "execution_count": 5,
   "metadata": {},
   "outputs": [
    {
     "name": "stdout",
     "output_type": "stream",
     "text": [
      "6400 training examples\n",
      "800 cross validation examples\n",
      "800 testing examples\n",
      "140 features, 8 classes\n"
     ]
    },
    {
     "data": {
      "text/plain": [
       "(6400, 140)"
      ]
     },
     "execution_count": 5,
     "metadata": {},
     "output_type": "execute_result"
    }
   ],
   "source": [
    "# This code is selecting the small dataset and extracting the features to use in the model.\n",
    "# It is also separating the tracks into train, validation, and test sets.\n",
    "small = tracks['set', 'subset'] == 'small'\n",
    "\n",
    "# FMA has already separated the tracks for into the three sets (train, val, test)\n",
    "train = tracks['set', 'split'] == 'training'\n",
    "val = tracks['set', 'split'] == 'validation'\n",
    "test = tracks['set', 'split'] == 'test'\n",
    "\n",
    "# Load the genre labels\n",
    "y_train = tracks.loc[small & train, ('track', 'genre_top')]\n",
    "y_val = tracks.loc[small & val, ('track', 'genre_top')]\n",
    "y_test = tracks.loc[small & test, ('track', 'genre_top')]\n",
    "\n",
    "# Load the mfccs\n",
    "X_train = features.loc[small & train, 'mfcc']\n",
    "X_val = features.loc[small & val, 'mfcc']\n",
    "X_test = features.loc[small & test, 'mfcc']\n",
    "\n",
    "print('{} training examples'.format(y_train.size))\n",
    "print('{} cross validation examples'.format(y_val.size))\n",
    "print('{} testing examples'.format(y_test.size))\n",
    "print('{} features, {} classes'.format(X_train.shape[1], np.unique(y_train).size))\n",
    "\n",
    "X_train.to_numpy().shape"
   ]
  }
 ],
 "metadata": {
  "kernelspec": {
   "display_name": "Python 3",
   "language": "python",
   "name": "python3"
  },
  "language_info": {
   "codemirror_mode": {
    "name": "ipython",
    "version": 3
   },
   "file_extension": ".py",
   "mimetype": "text/x-python",
   "name": "python",
   "nbconvert_exporter": "python",
   "pygments_lexer": "ipython3",
   "version": "3.7.6"
  }
 },
 "nbformat": 4,
 "nbformat_minor": 2
}
