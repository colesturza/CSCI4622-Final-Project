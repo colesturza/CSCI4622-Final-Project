{
 "cells": [
  {
   "cell_type": "markdown",
   "metadata": {},
   "source": [
    "## Convolutional Neural Network"
   ]
  },
  {
   "cell_type": "code",
   "execution_count": 1,
   "metadata": {},
   "outputs": [
    {
     "name": "stderr",
     "output_type": "stream",
     "text": [
      "Using TensorFlow backend.\n"
     ]
    }
   ],
   "source": [
    "import numpy as np\n",
    "\n",
    "from keras.models import Model\n",
    "from keras.layers import Input, Dense, Dropout, Flatten\n",
    "from keras.layers import Conv2D, MaxPooling2D\n",
    "from keras.layers.normalization import BatchNormalization\n",
    "from keras.optimizers import Adam\n",
    "\n",
    "from sklearn.metrics import classification_report"
   ]
  },
  {
   "cell_type": "markdown",
   "metadata": {},
   "source": [
    "## Retrieve all of the features and labels"
   ]
  },
  {
   "cell_type": "code",
   "execution_count": 2,
   "metadata": {},
   "outputs": [],
   "source": [
    "npzfile = np.load('../data/melspects.npz', allow_pickle=True)"
   ]
  },
  {
   "cell_type": "code",
   "execution_count": 3,
   "metadata": {},
   "outputs": [],
   "source": [
    "X_train, y_train = npzfile['X_train'], npzfile['y_train']\n",
    "X_test, y_test = npzfile['X_test'], npzfile['y_test']"
   ]
  },
  {
   "cell_type": "code",
   "execution_count": 4,
   "metadata": {},
   "outputs": [
    {
     "data": {
      "text/plain": [
       "(250, 96, 640)"
      ]
     },
     "execution_count": 4,
     "metadata": {},
     "output_type": "execute_result"
    }
   ],
   "source": [
    "X_test.shape"
   ]
  },
  {
   "cell_type": "markdown",
   "metadata": {},
   "source": [
    "## Building the Neural Net"
   ]
  },
  {
   "cell_type": "code",
   "execution_count": 5,
   "metadata": {},
   "outputs": [],
   "source": [
    "def CNN(X_shape, nb_classes):\n",
    "    \n",
    "    # Input\n",
    "    inputs = Input(shape=X_shape)\n",
    "    \n",
    "    conv1 = Conv2D(filters=64, kernel_size=(4,4), strides=1, padding='valid', \n",
    "                   activation='relu')(inputs)\n",
    "    \n",
    "    b1 = BatchNormalization()(conv1)\n",
    "    \n",
    "    pool1 = MaxPooling2D((2, 4), strides=(2, 4))(b1)\n",
    "    \n",
    "    conv2 = Conv2D(filters=64, kernel_size=(3,5), strides=1, padding='valid', \n",
    "                   activation='relu')(pool1)\n",
    "    \n",
    "    pool2 = MaxPooling2D((2, 2), strides=(2, 2))(conv2)\n",
    "    \n",
    "    dr1 = Dropout(0.2)(pool2)\n",
    "    \n",
    "    conv3 = Conv2D(filters=64, kernel_size=(2,2), strides=1, padding='valid', \n",
    "                   activation='relu')(dr1)\n",
    "    \n",
    "    b2 = BatchNormalization()(conv3)\n",
    "    \n",
    "    pool3 = MaxPooling2D((2, 2), strides=(2, 4))(b2)\n",
    "    \n",
    "    flatten = Flatten()(pool3)\n",
    "    \n",
    "    dense1 = Dense(64, activation='relu')(flatten)\n",
    "    \n",
    "    dense2 = Dense(32, activation='relu')(dense1)\n",
    "    \n",
    "    # Softmax Output\n",
    "    output = Dense(nb_classes, activation='softmax')(dense2)\n",
    "    \n",
    "    model_output = output\n",
    "    model = Model(inputs=inputs, outputs=[output])\n",
    "    \n",
    "    model.compile(loss='categorical_crossentropy', optimizer=Adam(), metrics=['accuracy'])\n",
    "    \n",
    "    print(model.summary())\n",
    "    return model"
   ]
  },
  {
   "cell_type": "code",
   "execution_count": null,
   "metadata": {},
   "outputs": [
    {
     "name": "stdout",
     "output_type": "stream",
     "text": [
      "Model: \"model_1\"\n",
      "_________________________________________________________________\n",
      "Layer (type)                 Output Shape              Param #   \n",
      "=================================================================\n",
      "input_1 (InputLayer)         (None, 96, 640, 1)        0         \n",
      "_________________________________________________________________\n",
      "conv2d_1 (Conv2D)            (None, 93, 637, 64)       1088      \n",
      "_________________________________________________________________\n",
      "batch_normalization_1 (Batch (None, 93, 637, 64)       256       \n",
      "_________________________________________________________________\n",
      "max_pooling2d_1 (MaxPooling2 (None, 46, 159, 64)       0         \n",
      "_________________________________________________________________\n",
      "conv2d_2 (Conv2D)            (None, 44, 155, 64)       61504     \n",
      "_________________________________________________________________\n",
      "max_pooling2d_2 (MaxPooling2 (None, 22, 77, 64)        0         \n",
      "_________________________________________________________________\n",
      "dropout_1 (Dropout)          (None, 22, 77, 64)        0         \n",
      "_________________________________________________________________\n",
      "conv2d_3 (Conv2D)            (None, 21, 76, 64)        16448     \n",
      "_________________________________________________________________\n",
      "batch_normalization_2 (Batch (None, 21, 76, 64)        256       \n",
      "_________________________________________________________________\n",
      "max_pooling2d_3 (MaxPooling2 (None, 10, 19, 64)        0         \n",
      "_________________________________________________________________\n",
      "flatten_1 (Flatten)          (None, 12160)             0         \n",
      "_________________________________________________________________\n",
      "dense_1 (Dense)              (None, 64)                778304    \n",
      "_________________________________________________________________\n",
      "dense_2 (Dense)              (None, 32)                2080      \n",
      "_________________________________________________________________\n",
      "dense_3 (Dense)              (None, 10)                330       \n",
      "=================================================================\n",
      "Total params: 860,266\n",
      "Trainable params: 860,010\n",
      "Non-trainable params: 256\n",
      "_________________________________________________________________\n",
      "None\n",
      "Train on 675 samples, validate on 75 samples\n",
      "Epoch 1/25\n"
     ]
    }
   ],
   "source": [
    "nb_classes = len(np.unique(y_train))\n",
    "nb_epochs = 25\n",
    "batch_size = 128\n",
    "\n",
    "# Convert to one hot encoding\n",
    "y_train_one_hot = np.zeros((y_train.size, nb_classes))\n",
    "y_train_one_hot[range(y_train.size),y_train] = 1\n",
    "\n",
    "# Need to add a channel dim for the convolution layers\n",
    "X_train_expanded = np.expand_dims(X_train, axis=-1)\n",
    "X_test_expanded = np.expand_dims(X_test, axis=-1)\n",
    "\n",
    "X_shape = X_train_expanded.shape[1:]\n",
    "\n",
    "model = CNN(X_shape, nb_classes)\n",
    "\n",
    "# Fit data to model\n",
    "history = model.fit(X_train_expanded, y_train_one_hot, batch_size=batch_size, \n",
    "                    epochs=nb_epochs, validation_split=0.1)"
   ]
  },
  {
   "cell_type": "code",
   "execution_count": 34,
   "metadata": {},
   "outputs": [],
   "source": [
    "preds = model.predict(X_test_expanded)\n",
    "y_pred = np.argmax(preds, axis=1)"
   ]
  },
  {
   "cell_type": "code",
   "execution_count": 37,
   "metadata": {},
   "outputs": [
    {
     "name": "stdout",
     "output_type": "stream",
     "text": [
      "              precision    recall  f1-score   support\n",
      "\n",
      "           0       0.43      0.35      0.38        26\n",
      "           1       1.00      0.31      0.47        29\n",
      "           2       0.33      0.43      0.38        23\n",
      "           3       0.64      0.36      0.46        25\n",
      "           4       0.44      0.85      0.58        27\n",
      "           5       0.52      0.56      0.54        25\n",
      "           6       0.86      0.86      0.86        22\n",
      "           7       0.86      0.43      0.57        28\n",
      "           8       0.29      0.48      0.36        21\n",
      "           9       0.37      0.42      0.39        24\n",
      "\n",
      "    accuracy                           0.50       250\n",
      "   macro avg       0.58      0.50      0.50       250\n",
      "weighted avg       0.59      0.50      0.50       250\n",
      "\n"
     ]
    }
   ],
   "source": [
    "print(classification_report(y_test, y_pred))"
   ]
  }
 ],
 "metadata": {
  "kernelspec": {
   "display_name": "Python 3",
   "language": "python",
   "name": "python3"
  },
  "language_info": {
   "codemirror_mode": {
    "name": "ipython",
    "version": 3
   },
   "file_extension": ".py",
   "mimetype": "text/x-python",
   "name": "python",
   "nbconvert_exporter": "python",
   "pygments_lexer": "ipython3",
   "version": "3.7.6"
  }
 },
 "nbformat": 4,
 "nbformat_minor": 2
}
