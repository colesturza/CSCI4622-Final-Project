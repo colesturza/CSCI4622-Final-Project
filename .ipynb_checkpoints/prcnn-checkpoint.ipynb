{
 "cells": [
  {
   "cell_type": "markdown",
   "metadata": {},
   "source": [
    "## Paralleling Recurrent Convolutional Neural Network\n",
    "\n",
    "This is an implementation of the model presented in Feng et al. \"Music genre classification with paralleling recurrent convolutional neural network.\""
   ]
  },
  {
   "cell_type": "code",
   "execution_count": 112,
   "metadata": {},
   "outputs": [],
   "source": [
    "import numpy as np\n",
    "\n",
    "import keras\n",
    "from keras.models import Sequential, Model\n",
    "from keras.layers import Input, Dense, Bidirectional, Dropout, Activation, GRU\n",
    "from keras.layers import Conv2D, concatenate, MaxPooling2D, Flatten, Lambda\n",
    "from keras import backend as K\n",
    "\n",
    "from keras.optimizers import Adam, RMSprop"
   ]
  },
  {
   "cell_type": "markdown",
   "metadata": {},
   "source": [
    "## Retrieve all of the features and labels"
   ]
  },
  {
   "cell_type": "code",
   "execution_count": 102,
   "metadata": {},
   "outputs": [],
   "source": [
    "npzfile = np.load('../data/melspects_128.npz', allow_pickle=True)"
   ]
  },
  {
   "cell_type": "code",
   "execution_count": 103,
   "metadata": {},
   "outputs": [],
   "source": [
    "X_train, y_train = npzfile['X_train'], npzfile['y_train']\n",
    "X_test, y_test = npzfile['X_test'], npzfile['y_test']"
   ]
  },
  {
   "cell_type": "code",
   "execution_count": 104,
   "metadata": {},
   "outputs": [
    {
     "data": {
      "text/plain": [
       "(900, 128, 640)"
      ]
     },
     "execution_count": 104,
     "metadata": {},
     "output_type": "execute_result"
    }
   ],
   "source": [
    "X_train.shape"
   ]
  },
  {
   "cell_type": "markdown",
   "metadata": {},
   "source": [
    "## Building the Neural Net"
   ]
  },
  {
   "cell_type": "code",
   "execution_count": 116,
   "metadata": {},
   "outputs": [],
   "source": [
    "def PRCNN(X_shape, nb_classes):\n",
    "    \n",
    "    # Input\n",
    "    inputs = Input(shape=X_shape)\n",
    "    \n",
    "    # CNN Block\n",
    "    conv1 = Conv2D(filters=16, kernel_size=(1,3), strides=1, padding='valid', \n",
    "                   activation='relu')(inputs)\n",
    "    \n",
    "    pool11 = MaxPooling2D((2, 2), strides=(2,2))(conv1)\n",
    "    \n",
    "    conv2 = Conv2D(filters=32, kernel_size=(1,3), strides=1, padding='valid', \n",
    "                   activation='relu')(pool11)\n",
    "    \n",
    "    pool12 = MaxPooling2D((2, 2), strides=(2,2))(conv2)\n",
    "    \n",
    "    conv3 = Conv2D(filters=64, kernel_size=(1,3), strides=1, padding='valid', \n",
    "                   activation='relu')(pool12)\n",
    "    \n",
    "    pool13 = MaxPooling2D((2, 2), strides=(2,2))(conv3)\n",
    "    \n",
    "    conv4 = Conv2D(filters=128, kernel_size=(1,3), strides=1, padding='valid', \n",
    "                   activation='relu')(pool13)\n",
    "    \n",
    "    pool14 = MaxPooling2D((4, 4), strides=(4,4))(conv4)\n",
    "    \n",
    "    conv5 = Conv2D(filters=64, kernel_size=(1,3), strides=1, padding='valid', \n",
    "                   activation='relu')(pool14)\n",
    "    \n",
    "    pool15 = MaxPooling2D((4, 4), strides=(4,4))(conv5)\n",
    "\n",
    "    flatten1 = Flatten()(pool15)\n",
    "    \n",
    "    # BGRU-RNN block\n",
    "    pool21 = MaxPooling2D((1,2), strides=(1,2))(inputs)\n",
    "    \n",
    "    # Remove channel axis so we can pass into Bidirectional GRU layer\n",
    "    squeezed = Lambda(lambda x: K.squeeze(x, axis=-1))(pool21)\n",
    "    \n",
    "    # Bidirectional GRU\n",
    "    bigru_rnn = Bidirectional(GRU(128), merge_mode='concat')(squeezed)\n",
    "    \n",
    "    # Concat Output\n",
    "    concat = concatenate([flatten1, bigru_rnn])\n",
    "    \n",
    "    # Softmax Output\n",
    "    output = Dense(nb_classes, activation='softmax')(concat)\n",
    "    \n",
    "    model_output = output\n",
    "    model = Model(inputs=inputs, outputs=[output])\n",
    "    \n",
    "    model.compile(loss='categorical_crossentropy', optimizer=RMSprop(lr=0.0005), metrics=['accuracy'])\n",
    "    \n",
    "    print(model.summary())\n",
    "    return model"
   ]
  },
  {
   "cell_type": "code",
   "execution_count": null,
   "metadata": {},
   "outputs": [
    {
     "name": "stdout",
     "output_type": "stream",
     "text": [
      "Model: \"model_39\"\n",
      "__________________________________________________________________________________________________\n",
      "Layer (type)                    Output Shape         Param #     Connected to                     \n",
      "==================================================================================================\n",
      "input_57 (InputLayer)           (None, 128, 640, 1)  0                                            \n",
      "__________________________________________________________________________________________________\n",
      "conv2d_243 (Conv2D)             (None, 128, 638, 16) 64          input_57[0][0]                   \n",
      "__________________________________________________________________________________________________\n",
      "max_pooling2d_281 (MaxPooling2D (None, 64, 319, 16)  0           conv2d_243[0][0]                 \n",
      "__________________________________________________________________________________________________\n",
      "conv2d_244 (Conv2D)             (None, 64, 317, 32)  1568        max_pooling2d_281[0][0]          \n",
      "__________________________________________________________________________________________________\n",
      "max_pooling2d_282 (MaxPooling2D (None, 32, 158, 32)  0           conv2d_244[0][0]                 \n",
      "__________________________________________________________________________________________________\n",
      "conv2d_245 (Conv2D)             (None, 32, 156, 64)  6208        max_pooling2d_282[0][0]          \n",
      "__________________________________________________________________________________________________\n",
      "max_pooling2d_283 (MaxPooling2D (None, 16, 78, 64)   0           conv2d_245[0][0]                 \n",
      "__________________________________________________________________________________________________\n",
      "conv2d_246 (Conv2D)             (None, 16, 76, 128)  24704       max_pooling2d_283[0][0]          \n",
      "__________________________________________________________________________________________________\n",
      "max_pooling2d_284 (MaxPooling2D (None, 4, 19, 128)   0           conv2d_246[0][0]                 \n",
      "__________________________________________________________________________________________________\n",
      "conv2d_247 (Conv2D)             (None, 4, 17, 64)    24640       max_pooling2d_284[0][0]          \n",
      "__________________________________________________________________________________________________\n",
      "max_pooling2d_286 (MaxPooling2D (None, 128, 320, 1)  0           input_57[0][0]                   \n",
      "__________________________________________________________________________________________________\n",
      "max_pooling2d_285 (MaxPooling2D (None, 1, 4, 64)     0           conv2d_247[0][0]                 \n",
      "__________________________________________________________________________________________________\n",
      "lambda_42 (Lambda)              (None, 128, 320)     0           max_pooling2d_286[0][0]          \n",
      "__________________________________________________________________________________________________\n",
      "flatten_46 (Flatten)            (None, 256)          0           max_pooling2d_285[0][0]          \n",
      "__________________________________________________________________________________________________\n",
      "bidirectional_45 (Bidirectional (None, 256)          344832      lambda_42[0][0]                  \n",
      "__________________________________________________________________________________________________\n",
      "concatenate_41 (Concatenate)    (None, 512)          0           flatten_46[0][0]                 \n",
      "                                                                 bidirectional_45[0][0]           \n",
      "__________________________________________________________________________________________________\n",
      "dense_40 (Dense)                (None, 10)           5130        concatenate_41[0][0]             \n",
      "==================================================================================================\n",
      "Total params: 407,146\n",
      "Trainable params: 407,146\n",
      "Non-trainable params: 0\n",
      "__________________________________________________________________________________________________\n",
      "None\n",
      "Epoch 1/50\n",
      "900/900 [==============================] - 30s 33ms/step - loss: 2.8252 - accuracy: 0.1022\n",
      "Epoch 2/50\n",
      "900/900 [==============================] - 28s 31ms/step - loss: 2.3714 - accuracy: 0.1378\n",
      "Epoch 3/50\n",
      "900/900 [==============================] - 27s 30ms/step - loss: 2.2595 - accuracy: 0.1722\n",
      "Epoch 4/50\n",
      "900/900 [==============================] - 27s 30ms/step - loss: 2.2195 - accuracy: 0.1944\n",
      "Epoch 5/50\n",
      "900/900 [==============================] - 28s 31ms/step - loss: 2.2470 - accuracy: 0.1722\n",
      "Epoch 6/50\n",
      "900/900 [==============================] - 28s 31ms/step - loss: 2.1626 - accuracy: 0.2178\n",
      "Epoch 7/50\n",
      "900/900 [==============================] - 27s 30ms/step - loss: 2.1311 - accuracy: 0.2211\n",
      "Epoch 8/50\n",
      "900/900 [==============================] - 28s 31ms/step - loss: 2.1098 - accuracy: 0.2589\n",
      "Epoch 9/50\n",
      "900/900 [==============================] - 28s 31ms/step - loss: 2.0536 - accuracy: 0.2589\n",
      "Epoch 10/50\n",
      "768/900 [========================>.....] - ETA: 5s - loss: 2.0528 - accuracy: 0.2604"
     ]
    }
   ],
   "source": [
    "nb_classes = len(np.unique(y_train))\n",
    "nb_epochs = 50\n",
    "batch_size = 64\n",
    "\n",
    "# Convert to one hot encoding\n",
    "y_train_one_hot = np.zeros((y_train.size, nb_classes))\n",
    "y_train_one_hot[range(y_train.size),y_train] = 1\n",
    "\n",
    "# Need to add a channel dim for the convolution layers\n",
    "X_train_expanded = np.expand_dims(X_train, axis=-1)\n",
    "X_test_expanded = np.expand_dims(X_test, axis=-1)\n",
    "\n",
    "X_shape = X_train_expanded.shape[1:]\n",
    "\n",
    "model = PRCNN(X_shape, nb_classes)\n",
    "\n",
    "# Fit data to model\n",
    "history = model.fit(X_train_expanded, y_train_one_hot, batch_size=batch_size, epochs=nb_epochs)"
   ]
  }
 ],
 "metadata": {
  "kernelspec": {
   "display_name": "Python 3",
   "language": "python",
   "name": "python3"
  },
  "language_info": {
   "codemirror_mode": {
    "name": "ipython",
    "version": 3
   },
   "file_extension": ".py",
   "mimetype": "text/x-python",
   "name": "python",
   "nbconvert_exporter": "python",
   "pygments_lexer": "ipython3",
   "version": "3.7.6"
  }
 },
 "nbformat": 4,
 "nbformat_minor": 2
}
