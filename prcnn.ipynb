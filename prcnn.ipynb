{
 "cells": [
  {
   "cell_type": "markdown",
   "metadata": {},
   "source": [
    "## Paralleling Recurrent Convolutional Neural Network\n",
    "\n",
    "This is an implementation of the model presented in Feng et al. \"Music genre classification with paralleling recurrent convolutional neural network.\""
   ]
  },
  {
   "cell_type": "code",
   "execution_count": 10,
   "metadata": {},
   "outputs": [],
   "source": [
    "import numpy as np\n",
    "\n",
    "import keras\n",
    "from keras.models import Model\n",
    "from keras.layers import Input, Dense, Bidirectional, Dropout, Activation, GRU\n",
    "from keras.layers import Conv2D, concatenate, MaxPooling2D, Flatten, Lambda\n",
    "from keras import backend as K\n",
    "\n",
    "from keras.optimizers import Adam, RMSprop\n",
    "\n",
    "from sklearn.metrics import classification_report"
   ]
  },
  {
   "cell_type": "markdown",
   "metadata": {},
   "source": [
    "## Retrieve all of the features and labels"
   ]
  },
  {
   "cell_type": "code",
   "execution_count": 3,
   "metadata": {},
   "outputs": [],
   "source": [
    "npzfile = np.load('../data/melspects_128.npz', allow_pickle=True)"
   ]
  },
  {
   "cell_type": "code",
   "execution_count": 4,
   "metadata": {},
   "outputs": [],
   "source": [
    "X_train, y_train = npzfile['X_train'], npzfile['y_train']\n",
    "X_test, y_test = npzfile['X_test'], npzfile['y_test']"
   ]
  },
  {
   "cell_type": "code",
   "execution_count": 5,
   "metadata": {},
   "outputs": [
    {
     "data": {
      "text/plain": [
       "(900, 128, 640)"
      ]
     },
     "execution_count": 5,
     "metadata": {},
     "output_type": "execute_result"
    }
   ],
   "source": [
    "X_train.shape"
   ]
  },
  {
   "cell_type": "markdown",
   "metadata": {},
   "source": [
    "## Building the Neural Net"
   ]
  },
  {
   "cell_type": "code",
   "execution_count": 6,
   "metadata": {},
   "outputs": [],
   "source": [
    "def PRCNN(X_shape, nb_classes):\n",
    "    \n",
    "    # Input\n",
    "    inputs = Input(shape=X_shape)\n",
    "    \n",
    "    # CNN Block\n",
    "    conv1 = Conv2D(filters=16, kernel_size=(1,3), strides=1, padding='valid', \n",
    "                   activation='relu')(inputs)\n",
    "    \n",
    "    pool11 = MaxPooling2D((2, 2), strides=(2,2))(conv1)\n",
    "    \n",
    "    conv2 = Conv2D(filters=32, kernel_size=(1,3), strides=1, padding='valid', \n",
    "                   activation='relu')(pool11)\n",
    "    \n",
    "    pool12 = MaxPooling2D((2, 2), strides=(2,2))(conv2)\n",
    "    \n",
    "    conv3 = Conv2D(filters=64, kernel_size=(1,3), strides=1, padding='valid', \n",
    "                   activation='relu')(pool12)\n",
    "    \n",
    "    pool13 = MaxPooling2D((2, 2), strides=(2,2))(conv3)\n",
    "    \n",
    "    conv4 = Conv2D(filters=128, kernel_size=(1,3), strides=1, padding='valid', \n",
    "                   activation='relu')(pool13)\n",
    "    \n",
    "    pool14 = MaxPooling2D((4, 4), strides=(4,4))(conv4)\n",
    "    \n",
    "    conv5 = Conv2D(filters=64, kernel_size=(1,3), strides=1, padding='valid', \n",
    "                   activation='relu')(pool14)\n",
    "    \n",
    "    pool15 = MaxPooling2D((4, 4), strides=(4,4))(conv5)\n",
    "\n",
    "    flatten1 = Flatten()(pool15)\n",
    "    \n",
    "    # BGRU-RNN block\n",
    "    pool21 = MaxPooling2D((1,2), strides=(1,2))(inputs)\n",
    "    \n",
    "    # Remove channel axis so we can pass into Bidirectional GRU layer\n",
    "    squeezed = Lambda(lambda x: K.squeeze(x, axis=-1))(pool21)\n",
    "    \n",
    "    # Bidirectional GRU\n",
    "    bigru_rnn = Bidirectional(GRU(128), merge_mode='concat')(squeezed)\n",
    "    \n",
    "    # Concat Output\n",
    "    concat = concatenate([flatten1, bigru_rnn])\n",
    "    \n",
    "    # Softmax Output\n",
    "    output = Dense(nb_classes, activation='softmax')(concat)\n",
    "    \n",
    "    model_output = output\n",
    "    model = Model(inputs=inputs, outputs=[output])\n",
    "    \n",
    "    model.compile(loss='categorical_crossentropy', optimizer=RMSprop(lr=0.0005), metrics=['accuracy'])\n",
    "    \n",
    "    print(model.summary())\n",
    "    return model"
   ]
  },
  {
   "cell_type": "code",
   "execution_count": 7,
   "metadata": {},
   "outputs": [
    {
     "name": "stdout",
     "output_type": "stream",
     "text": [
      "Model: \"model_1\"\n",
      "__________________________________________________________________________________________________\n",
      "Layer (type)                    Output Shape         Param #     Connected to                     \n",
      "==================================================================================================\n",
      "input_1 (InputLayer)            (None, 128, 640, 1)  0                                            \n",
      "__________________________________________________________________________________________________\n",
      "conv2d_1 (Conv2D)               (None, 128, 638, 16) 64          input_1[0][0]                    \n",
      "__________________________________________________________________________________________________\n",
      "max_pooling2d_1 (MaxPooling2D)  (None, 64, 319, 16)  0           conv2d_1[0][0]                   \n",
      "__________________________________________________________________________________________________\n",
      "conv2d_2 (Conv2D)               (None, 64, 317, 32)  1568        max_pooling2d_1[0][0]            \n",
      "__________________________________________________________________________________________________\n",
      "max_pooling2d_2 (MaxPooling2D)  (None, 32, 158, 32)  0           conv2d_2[0][0]                   \n",
      "__________________________________________________________________________________________________\n",
      "conv2d_3 (Conv2D)               (None, 32, 156, 64)  6208        max_pooling2d_2[0][0]            \n",
      "__________________________________________________________________________________________________\n",
      "max_pooling2d_3 (MaxPooling2D)  (None, 16, 78, 64)   0           conv2d_3[0][0]                   \n",
      "__________________________________________________________________________________________________\n",
      "conv2d_4 (Conv2D)               (None, 16, 76, 128)  24704       max_pooling2d_3[0][0]            \n",
      "__________________________________________________________________________________________________\n",
      "max_pooling2d_4 (MaxPooling2D)  (None, 4, 19, 128)   0           conv2d_4[0][0]                   \n",
      "__________________________________________________________________________________________________\n",
      "conv2d_5 (Conv2D)               (None, 4, 17, 64)    24640       max_pooling2d_4[0][0]            \n",
      "__________________________________________________________________________________________________\n",
      "max_pooling2d_6 (MaxPooling2D)  (None, 128, 320, 1)  0           input_1[0][0]                    \n",
      "__________________________________________________________________________________________________\n",
      "max_pooling2d_5 (MaxPooling2D)  (None, 1, 4, 64)     0           conv2d_5[0][0]                   \n",
      "__________________________________________________________________________________________________\n",
      "lambda_1 (Lambda)               (None, 128, 320)     0           max_pooling2d_6[0][0]            \n",
      "__________________________________________________________________________________________________\n",
      "flatten_1 (Flatten)             (None, 256)          0           max_pooling2d_5[0][0]            \n",
      "__________________________________________________________________________________________________\n",
      "bidirectional_1 (Bidirectional) (None, 256)          344832      lambda_1[0][0]                   \n",
      "__________________________________________________________________________________________________\n",
      "concatenate_1 (Concatenate)     (None, 512)          0           flatten_1[0][0]                  \n",
      "                                                                 bidirectional_1[0][0]            \n",
      "__________________________________________________________________________________________________\n",
      "dense_1 (Dense)                 (None, 10)           5130        concatenate_1[0][0]              \n",
      "==================================================================================================\n",
      "Total params: 407,146\n",
      "Trainable params: 407,146\n",
      "Non-trainable params: 0\n",
      "__________________________________________________________________________________________________\n",
      "None\n",
      "Epoch 1/25\n",
      "900/900 [==============================] - 53s 59ms/step - loss: 2.4174 - accuracy: 0.1167\n",
      "Epoch 2/25\n",
      "900/900 [==============================] - 57s 63ms/step - loss: 2.2489 - accuracy: 0.1556\n",
      "Epoch 3/25\n",
      "900/900 [==============================] - 81s 90ms/step - loss: 2.1197 - accuracy: 0.2178\n",
      "Epoch 4/25\n",
      "900/900 [==============================] - 54s 60ms/step - loss: 2.0276 - accuracy: 0.2456\n",
      "Epoch 5/25\n",
      "900/900 [==============================] - 52s 58ms/step - loss: 1.9329 - accuracy: 0.2856\n",
      "Epoch 6/25\n",
      "900/900 [==============================] - 53s 59ms/step - loss: 1.8940 - accuracy: 0.2900\n",
      "Epoch 7/25\n",
      "900/900 [==============================] - 51s 57ms/step - loss: 1.7994 - accuracy: 0.3433\n",
      "Epoch 8/25\n",
      "900/900 [==============================] - 54s 60ms/step - loss: 1.7210 - accuracy: 0.3722\n",
      "Epoch 9/25\n",
      "900/900 [==============================] - 52s 58ms/step - loss: 1.6619 - accuracy: 0.3956\n",
      "Epoch 10/25\n",
      "900/900 [==============================] - 53s 59ms/step - loss: 1.5843 - accuracy: 0.4467\n",
      "Epoch 11/25\n",
      "900/900 [==============================] - 54s 60ms/step - loss: 1.5665 - accuracy: 0.4444\n",
      "Epoch 12/25\n",
      "900/900 [==============================] - 53s 59ms/step - loss: 1.4577 - accuracy: 0.4944\n",
      "Epoch 13/25\n",
      "900/900 [==============================] - 53s 59ms/step - loss: 1.4271 - accuracy: 0.5111\n",
      "Epoch 14/25\n",
      "900/900 [==============================] - 55s 62ms/step - loss: 1.3763 - accuracy: 0.5411\n",
      "Epoch 15/25\n",
      "900/900 [==============================] - 53s 59ms/step - loss: 1.3160 - accuracy: 0.5578\n",
      "Epoch 16/25\n",
      "900/900 [==============================] - 53s 58ms/step - loss: 1.2566 - accuracy: 0.5778\n",
      "Epoch 17/25\n",
      "900/900 [==============================] - 53s 58ms/step - loss: 1.2370 - accuracy: 0.5922\n",
      "Epoch 18/25\n",
      "900/900 [==============================] - 52s 58ms/step - loss: 1.1716 - accuracy: 0.5989\n",
      "Epoch 19/25\n",
      "900/900 [==============================] - 53s 59ms/step - loss: 1.1078 - accuracy: 0.6344\n",
      "Epoch 20/25\n",
      "900/900 [==============================] - 53s 59ms/step - loss: 1.0342 - accuracy: 0.6544\n",
      "Epoch 21/25\n",
      "900/900 [==============================] - 53s 59ms/step - loss: 0.9853 - accuracy: 0.6978\n",
      "Epoch 22/25\n",
      "900/900 [==============================] - 51s 57ms/step - loss: 0.9636 - accuracy: 0.7011\n",
      "Epoch 23/25\n",
      "900/900 [==============================] - 52s 58ms/step - loss: 0.8747 - accuracy: 0.7178\n",
      "Epoch 24/25\n",
      "900/900 [==============================] - 58s 65ms/step - loss: 0.8182 - accuracy: 0.7367\n",
      "Epoch 25/25\n",
      "900/900 [==============================] - 52s 58ms/step - loss: 0.8174 - accuracy: 0.7367\n"
     ]
    }
   ],
   "source": [
    "nb_classes = len(np.unique(y_train))\n",
    "nb_epochs = 25\n",
    "batch_size = 16\n",
    "\n",
    "# Convert to one hot encoding\n",
    "y_train_one_hot = np.zeros((y_train.size, nb_classes))\n",
    "y_train_one_hot[range(y_train.size),y_train] = 1\n",
    "\n",
    "# Need to add a channel dim for the convolution layers\n",
    "X_train_expanded = np.expand_dims(X_train, axis=-1)\n",
    "X_test_expanded = np.expand_dims(X_test, axis=-1)\n",
    "\n",
    "X_shape = X_train_expanded.shape[1:]\n",
    "\n",
    "model = PRCNN(X_shape, nb_classes)\n",
    "\n",
    "# Fit data to model\n",
    "history = model.fit(X_train_expanded, y_train_one_hot, batch_size=batch_size, epochs=nb_epochs)"
   ]
  },
  {
   "cell_type": "code",
   "execution_count": 13,
   "metadata": {},
   "outputs": [],
   "source": [
    "preds = model.predict(X_test_expanded)\n",
    "y_pred = np.argmax(preds, axis=1)"
   ]
  },
  {
   "cell_type": "code",
   "execution_count": 14,
   "metadata": {},
   "outputs": [
    {
     "name": "stdout",
     "output_type": "stream",
     "text": [
      "              precision    recall  f1-score   support\n",
      "\n",
      "           0       0.23      0.67      0.34        12\n",
      "           1       0.75      0.92      0.83        13\n",
      "           2       0.00      0.00      0.00        10\n",
      "           3       0.15      1.00      0.26         5\n",
      "           4       0.00      0.00      0.00         6\n",
      "           5       1.00      0.07      0.12        15\n",
      "           6       0.58      0.70      0.64        10\n",
      "           7       0.00      0.00      0.00         9\n",
      "           8       0.00      0.00      0.00        14\n",
      "           9       0.00      0.00      0.00         6\n",
      "\n",
      "    accuracy                           0.33       100\n",
      "   macro avg       0.27      0.34      0.22       100\n",
      "weighted avg       0.34      0.33      0.24       100\n",
      "\n"
     ]
    },
    {
     "name": "stderr",
     "output_type": "stream",
     "text": [
      "/home/cole/anaconda3/lib/python3.7/site-packages/sklearn/metrics/_classification.py:1272: UndefinedMetricWarning: Precision and F-score are ill-defined and being set to 0.0 in labels with no predicted samples. Use `zero_division` parameter to control this behavior.\n",
      "  _warn_prf(average, modifier, msg_start, len(result))\n"
     ]
    }
   ],
   "source": [
    "print(classification_report(y_test, y_pred))"
   ]
  }
 ],
 "metadata": {
  "kernelspec": {
   "display_name": "Python 3",
   "language": "python",
   "name": "python3"
  },
  "language_info": {
   "codemirror_mode": {
    "name": "ipython",
    "version": 3
   },
   "file_extension": ".py",
   "mimetype": "text/x-python",
   "name": "python",
   "nbconvert_exporter": "python",
   "pygments_lexer": "ipython3",
   "version": "3.7.6"
  }
 },
 "nbformat": 4,
 "nbformat_minor": 2
}
